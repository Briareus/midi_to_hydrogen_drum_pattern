{
 "cells": [
  {
   "cell_type": "code",
   "execution_count": 1,
   "metadata": {},
   "outputs": [],
   "source": [
    "import glob\n",
    "import subprocess\n",
    "import sys\n",
    "import os\n",
    "import glob\n",
    "import pprint\n",
    "import ntpath\n",
    "import ffmpeg\n",
    "\n",
    "# configuration\n",
    "pp = pprint.PrettyPrinter(indent=4)\n"
   ]
  },
  {
   "cell_type": "code",
   "execution_count": 2,
   "metadata": {},
   "outputs": [],
   "source": [
    "# functions\n",
    "\n",
    "# get tail from path leaf\n",
    "def get_tail(path):\n",
    "    return path_leaf(path).split('.')[0]\n",
    "\n",
    "    \n",
    "def path_leaf(path):\n",
    "    head, tail = ntpath.split(path)\n",
    "    return tail or ntpath.basename(head)\n",
    "\n",
    "def truncate_audio_file(input_file, output_file, t_length = 1):\n",
    "    process = (\n",
    "        ffmpeg\n",
    "        .input(input_file, t=t_length)\n",
    "        .output(output_file)\n",
    "        .overwrite_output()\n",
    "        .run_async(pipe_stdout=True, pipe_stderr=True)\n",
    "    )\n",
    "    out, err = process.communicate()\n",
    "    # print(f'output: {out}')\n",
    "    # print(f'err: {err}')"
   ]
  },
  {
   "cell_type": "code",
   "execution_count": null,
   "metadata": {},
   "outputs": [],
   "source": [
    "#ffmpeg -t 30 -i inputfile.mp3 -acodec copy outputfile.mp3\n",
    "# ffmpeg -i test_01.flac -t 1 -y test_02.flac\n",
    "\n",
    "\n",
    "input_file = 'test_01.flac'\n",
    "output_file = 'test_03.flac'\n",
    "\n",
    "process = (\n",
    "    ffmpeg\n",
    "    .input(input_file, t=1)\n",
    "    .output(output_file)\n",
    "    .overwrite_output()\n",
    "    .run_async(pipe_stdout=True, pipe_stderr=True)\n",
    ")\n",
    "out, err = process.communicate()\n",
    "\n",
    "print(f'output: {out}')\n",
    "print(f'err: {err}')\n",
    "\n",
    "# input_stream = ffmpeg.input(input_file, t=1)\n",
    "# # audio = input.audio.filter(\"aecho\", 0.8, 0.9, 1000, 0.3)\n",
    "# out = ffmpeg.output(input_stream, output_file)\n",
    "# try:\n",
    "#     result = out.run(capture_stderr=True, overwrite_output=True)\n",
    "#     print(result)\n",
    "# except:\n",
    "#     print('Exception occurred')\n",
    "#     pass\n",
    "\n",
    "\n",
    "\n"
   ]
  },
  {
   "cell_type": "code",
   "execution_count": null,
   "metadata": {},
   "outputs": [],
   "source": []
  }
 ],
 "metadata": {
  "kernelspec": {
   "display_name": "Python 3",
   "language": "python",
   "name": "python3"
  },
  "language_info": {
   "codemirror_mode": {
    "name": "ipython",
    "version": 3
   },
   "file_extension": ".py",
   "mimetype": "text/x-python",
   "name": "python",
   "nbconvert_exporter": "python",
   "pygments_lexer": "ipython3",
   "version": "3.8.10"
  },
  "metadata": {
   "interpreter": {
    "hash": "767d51c1340bd893661ea55ea3124f6de3c7a262a8b4abca0554b478b1e2ff90"
   }
  },
  "orig_nbformat": 2
 },
 "nbformat": 4,
 "nbformat_minor": 2
}
