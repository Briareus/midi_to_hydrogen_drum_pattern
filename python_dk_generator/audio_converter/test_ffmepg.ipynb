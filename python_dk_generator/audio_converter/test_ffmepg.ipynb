{
 "cells": [
  {
   "cell_type": "code",
   "execution_count": 1,
   "metadata": {},
   "outputs": [],
   "source": [
    "import glob\n",
    "import subprocess\n",
    "import sys\n",
    "import os\n",
    "import glob\n",
    "import pprint\n",
    "import ntpath\n",
    "import ffmpeg\n",
    "\n",
    "# configuration\n",
    "pp = pprint.PrettyPrinter(indent=4)\n"
   ]
  },
  {
   "cell_type": "code",
   "execution_count": 2,
   "metadata": {},
   "outputs": [],
   "source": [
    "# functions\n",
    "\n",
    "# get tail from path leaf\n",
    "def get_tail(path):\n",
    "    return path_leaf(path).split('.')[0]\n",
    "\n",
    "    \n",
    "def path_leaf(path):\n",
    "    head, tail = ntpath.split(path)\n",
    "    return tail or ntpath.basename(head)\n",
    "\n",
    "def truncate_audio_file(input_file, output_file, t_length = 1):\n",
    "    process = (\n",
    "        ffmpeg\n",
    "        .input(input_file, t=t_length)\n",
    "        .output(output_file)\n",
    "        .overwrite_output()\n",
    "        .run_async(pipe_stdout=True, pipe_stderr=True)\n",
    "    )\n",
    "    out, err = process.communicate()\n",
    "    # print(f'output: {out}')\n",
    "    # print(f'err: {err}')"
   ]
  },
  {
   "cell_type": "code",
   "execution_count": 3,
   "metadata": {},
   "outputs": [
    {
     "name": "stdout",
     "output_type": "stream",
     "text": [
      "[   't_go_round_-01.flac',\n",
      "    't_go_round_-02.flac',\n",
      "    't_go_round_-03.flac',\n",
      "    't_go_round_-04.flac',\n",
      "    't_go_round_-05.flac',\n",
      "    't_go_round_-06.flac',\n",
      "    't_go_round_-07.flac',\n",
      "    't_go_round_-08.flac',\n",
      "    't_go_round_-09.flac',\n",
      "    't_go_round_-10.flac',\n",
      "    't_go_round_-11.flac']\n"
     ]
    }
   ],
   "source": [
    "flac_dir = 'go_round'\n",
    "\n",
    "types = ('/*.flac', '/*.wav') # the tuple of file types\n",
    "files_grabbed = []\n",
    "for files in types:\n",
    "    file_path = flac_dir + files\n",
    "    files_grabbed.extend(glob.glob(file_path))\n",
    "files_grabbed.sort()\n",
    "flac_file_list = list(map(path_leaf, files_grabbed))\n",
    "pp.pprint(flac_file_list)"
   ]
  },
  {
   "cell_type": "code",
   "execution_count": 4,
   "metadata": {},
   "outputs": [],
   "source": [
    "\n",
    "for audio_file in flac_file_list:\n",
    "    input_file = flac_dir + '/' + audio_file\n",
    "    output_file = flac_dir + '/t_' + audio_file\n",
    "    truncate_audio_file(input_file, output_file, 1)"
   ]
  },
  {
   "cell_type": "code",
   "execution_count": null,
   "metadata": {},
   "outputs": [],
   "source": [
    "#ffmpeg -t 30 -i inputfile.mp3 -acodec copy outputfile.mp3\n",
    "# ffmpeg -i test_01.flac -t 1 -y test_02.flac\n",
    "\n",
    "\n",
    "input_file = 'test_01.flac'\n",
    "output_file = 'test_03.flac'\n",
    "\n",
    "process = (\n",
    "    ffmpeg\n",
    "    .input(input_file, t=1)\n",
    "    .output(output_file)\n",
    "    .overwrite_output()\n",
    "    .run_async(pipe_stdout=True, pipe_stderr=True)\n",
    ")\n",
    "out, err = process.communicate()\n",
    "\n",
    "print(f'output: {out}')\n",
    "print(f'err: {err}')\n",
    "\n",
    "# input_stream = ffmpeg.input(input_file, t=1)\n",
    "# # audio = input.audio.filter(\"aecho\", 0.8, 0.9, 1000, 0.3)\n",
    "# out = ffmpeg.output(input_stream, output_file)\n",
    "# try:\n",
    "#     result = out.run(capture_stderr=True, overwrite_output=True)\n",
    "#     print(result)\n",
    "# except:\n",
    "#     print('Exception occurred')\n",
    "#     pass\n",
    "\n",
    "\n",
    "\n"
   ]
  },
  {
   "cell_type": "code",
   "execution_count": null,
   "metadata": {},
   "outputs": [],
   "source": []
  }
 ],
 "metadata": {
  "kernelspec": {
   "display_name": "Python 3",
   "language": "python",
   "name": "python3"
  },
  "language_info": {
   "codemirror_mode": {
    "name": "ipython",
    "version": 3
   },
   "file_extension": ".py",
   "mimetype": "text/x-python",
   "name": "python",
   "nbconvert_exporter": "python",
   "pygments_lexer": "ipython3",
   "version": "3.8.10"
  },
  "metadata": {
   "interpreter": {
    "hash": "767d51c1340bd893661ea55ea3124f6de3c7a262a8b4abca0554b478b1e2ff90"
   }
  },
  "orig_nbformat": 2
 },
 "nbformat": 4,
 "nbformat_minor": 2
}
