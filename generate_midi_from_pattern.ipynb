{
 "cells": [
  {
   "cell_type": "code",
   "execution_count": null,
   "metadata": {},
   "outputs": [],
   "source": [
    "import sys\n",
    "import os\n",
    "import shutil\n",
    "import tarfile\n",
    "import pretty_midi\n",
    "import fluidsynth\n",
    "from IPython import display\n",
    "import xml.etree.ElementTree as ET\n",
    "import pprint as pp\n",
    "import glob\n",
    "import ntpath\n",
    "import re\n",
    "import json\n",
    "import xml.dom.minidom\n",
    "import numpy as np\n",
    "from functools import total_ordering\n",
    "import random\n",
    "import json\n",
    "import xmltodict\n",
    "\n",
    "import midi_constants as mc\n",
    "\n",
    "cwd = os.getcwd()\n",
    "\n",
    "pattern_path = cwd + '/generated_patterns/'\n",
    "pattern_midi_path = cwd + '/generated_pattern_midi_new/'\n",
    "\n",
    "MAXCOUNT = 25\n",
    "maxDim = 192\n",
    "\n",
    "# Sampling rate for audio playback\n",
    "_SAMPLING_RATE = 16000.0"
   ]
  },
  {
   "cell_type": "code",
   "execution_count": null,
   "metadata": {},
   "outputs": [],
   "source": [
    "# delete all files and subdirectories in directory\n",
    "def delete_directory(directory):\n",
    "    for root, dirs, files in os.walk(directory, topdown=False):\n",
    "        for name in files:\n",
    "            os.remove(os.path.join(root, name))\n",
    "        for name in dirs:\n",
    "            os.rmdir(os.path.join(root, name))\n",
    "    os.rmdir(directory)\n",
    "\n",
    "# create new directory or delete directory and recreate if exists\n",
    "def recreate_directory(directory):\n",
    "    if  os.path.exists(directory):\n",
    "        delete_directory(directory)\n",
    "    os.makedirs(directory)\n",
    "\n",
    "def display_audio(pm: pretty_midi.PrettyMIDI, seconds=30):\n",
    "    waveform = pm.fluidsynth(fs=_SAMPLING_RATE)\n",
    "    # Take a sample of the generated waveform to mitigate kernel resets\n",
    "    waveform_short = waveform[:seconds*int(_SAMPLING_RATE)]\n",
    "    return display.Audio(waveform_short, rate=int(_SAMPLING_RATE))\n",
    "\n",
    "def get_midi_note_from_inst_number(inst:str):\n",
    "    if inst.isnumeric():\n",
    "        return int(inst) + 35 # might need refinement\n",
    "    return None\n",
    "\n",
    "def get_midi_time_from_pattern_position(position:str):\n",
    "    if position.isnumeric():    \n",
    "        return int(position)/15\n",
    "    return None"
   ]
  },
  {
   "cell_type": "code",
   "execution_count": null,
   "metadata": {},
   "outputs": [],
   "source": [
    "recreate_directory(directory=pattern_midi_path)\n",
    "\n",
    "pattern_file_names = glob.glob(pattern_path + '*.h2pattern')\n",
    "print('Number of files:', len(pattern_file_names))\n",
    "print(pattern_file_names[0])\n",
    "\n"
   ]
  },
  {
   "cell_type": "code",
   "execution_count": null,
   "metadata": {},
   "outputs": [],
   "source": [
    "def get_note_map(data_dict:dict):\n",
    "        note_map = []\n",
    "        for i in data_dict['drumkit_pattern']['pattern']['noteList']['note']:\n",
    "                midi_note = {}\n",
    "                try:\n",
    "                        midi_note['instrument_number'] = get_midi_note_from_inst_number(i['instrument'])\n",
    "                        midi_note['start_time'] = get_midi_time_from_pattern_position(i['position'])\n",
    "                        note_map.append(midi_note)\n",
    "                except Exception as e:\n",
    "                        print(f'Caught exception {e}')\n",
    "        return note_map\n",
    "\n",
    "def generate_midi_file(note_map:list, midi_file_name:str):\n",
    "        pm = pretty_midi.PrettyMIDI()\n",
    "        for note in note_map:\n",
    "                inst = note.get('instrument_number', 35)\n",
    "                start_time = note.get('start_time')\n",
    "                drum = pretty_midi.Instrument(program=inst, is_drum=True)\n",
    "                note = pretty_midi.Note(\n",
    "                        velocity=100, pitch=inst, start=start_time, end=start_time + .5)\n",
    "                drum.notes.append(note)\n",
    "                pm.instruments.append(drum)\n",
    "        pm.write(midi_file_name)"
   ]
  },
  {
   "cell_type": "code",
   "execution_count": null,
   "metadata": {},
   "outputs": [],
   "source": [
    "\n",
    "print(f'{len(pattern_file_names)=}')\n",
    "\n",
    "secondary_pat_file_index = int(random.uniform(0, len(pattern_file_names)))\n",
    "print(f'{secondary_pat_file_index}')\n"
   ]
  },
  {
   "cell_type": "code",
   "execution_count": null,
   "metadata": {},
   "outputs": [],
   "source": [
    "\n",
    "counter = 0\n",
    "\n",
    "for pat_file in pattern_file_names:\n",
    "    counter = counter + 1\n",
    "    # use for testing or limiting output\n",
    "    if counter > MAXCOUNT:\n",
    "        break\n",
    "    data_dict = {}\n",
    "    note_map_primary = []\n",
    "    with open(pat_file) as fd:\n",
    "        data_dict = xmltodict.parse(fd.read())\n",
    "        note_map_primary = get_note_map(data_dict)\n",
    "        \n",
    "    # open secondary - use as option to create some unique midi files for further processing\n",
    "    note_map_sec = []\n",
    "    with open(pattern_file_names[secondary_pat_file_index]) as fd:\n",
    "        data_dict = xmltodict.parse(fd.read())\n",
    "        note_map_sec = get_note_map(data_dict)\n",
    "        \n",
    "    # note_map = note_map_primary + list(set(note_map_sec) - set(note_map_primary)) \n",
    "    note_map = note_map_primary + note_map_sec \n",
    "     \n",
    "        \n",
    "    m_file_name = mid_name = 'pattern_midi_' + str(counter).zfill(8) + '.midi'\n",
    "    print(f'{m_file_name=}')    \n",
    "    midi_file_name = os.path.join(pattern_midi_path, m_file_name)\n",
    "    generate_midi_file(note_map, midi_file_name)"
   ]
  },
  {
   "cell_type": "code",
   "execution_count": null,
   "metadata": {},
   "outputs": [],
   "source": [
    "\n",
    "# play it if you like\n",
    "pm = pretty_midi.PrettyMIDI(pattern_midi_path + 'pattern_midi_00000001.midi')\n",
    "\n",
    "display_audio(pm)\n"
   ]
  },
  {
   "cell_type": "code",
   "execution_count": null,
   "metadata": {},
   "outputs": [],
   "source": []
  }
 ],
 "metadata": {
  "kernelspec": {
   "display_name": "Python 3",
   "language": "python",
   "name": "python3"
  },
  "language_info": {
   "codemirror_mode": {
    "name": "ipython",
    "version": 3
   },
   "file_extension": ".py",
   "mimetype": "text/x-python",
   "name": "python",
   "nbconvert_exporter": "python",
   "pygments_lexer": "ipython3",
   "version": "3.10.6"
  },
  "orig_nbformat": 4,
  "vscode": {
   "interpreter": {
    "hash": "767d51c1340bd893661ea55ea3124f6de3c7a262a8b4abca0554b478b1e2ff90"
   }
  }
 },
 "nbformat": 4,
 "nbformat_minor": 2
}
